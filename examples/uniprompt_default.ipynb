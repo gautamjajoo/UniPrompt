{
 "cells": [
  {
   "cell_type": "code",
   "execution_count": null,
   "metadata": {},
   "outputs": [],
   "source": [
    "!git clone https://github.com/microsoft/UniPrompt.git"
   ]
  },
  {
   "cell_type": "code",
   "execution_count": null,
   "metadata": {},
   "outputs": [],
   "source": [
    "%cd UniPrompt\n",
    "!python3 -m pip install --upgrade pip setuptools\n",
    "!python3 -m pip install .\n",
    "%cd .."
   ]
  },
  {
   "cell_type": "code",
   "execution_count": 9,
   "metadata": {},
   "outputs": [],
   "source": [
    "config = {\n",
    "    \"experiment_details\":\"Ethos, gpt-4o, 0.7 temperature, 10 epochs, 7 batch size, 5 mini batch size, 1 iterations, 3 beam width, 2 group frequency, 0.5 epsilon\",\n",
    "    \"dataset_path\": \"data/ethos.jsonl\",\n",
    "    \"mini_batch_size\": 5,\n",
    "    \"batch_size\": 7,\n",
    "    \"iterations\": 1,\n",
    "    \"epochs\": 10,\n",
    "    \"logging_file_path\": \"logs/ethos.jsonl\",\n",
    "    \"epsilon\": 0.5,\n",
    "    \"beam_width\": 3,\n",
    "    \"group_frequency\": 2,\n",
    "    \"content_safety\": True,\n",
    "    \"cache_path\": \"cache/ethos.db\",\n",
    "    \"initial_prompt\": \"Given a query, you have to tell if it contains hate speech in any form or not.\",\n",
    "    \"dataset_name\": \"ethos\",\n",
    "    \"number_of_groups\": 2,\n",
    "    \"metric_kwargs\": {\n",
    "        \"type\": \"accuracy\"\n",
    "    },\n",
    "    \"solver_llm\": {\n",
    "        \"model_kwargs\": {\n",
    "            \"temperature\": 0,\n",
    "            \"model\": \"gpt-4o\"\n",
    "        },\n",
    "        \"api_kwargs\": {\n",
    "            \"api_type\": \"\",\n",
    "            \"api_base\": \"\",\n",
    "            \"api_version\": \"\",\n",
    "            \"api_key\": \"\"\n",
    "        }\n",
    "    },\n",
    "    \"expert_llm\": {\n",
    "        \"model_kwargs\": {\n",
    "            \"temperature\": 0.7,\n",
    "            \"model\": \"gpt-4o\"\n",
    "        },\n",
    "        \"api_kwargs\": {\n",
    "            \"api_type\": \"\",\n",
    "            \"api_base\": \"\",\n",
    "            \"api_version\": \"\",\n",
    "            \"api_key\": \"\"\n",
    "        }\n",
    "    },\n",
    "    \"grouping_llm\": {\n",
    "        \"model_kwargs\": {\n",
    "            \"temperature\": 0.7,\n",
    "            \"model\": \"gpt-4o\"\n",
    "        },\n",
    "        \"api_kwargs\": {\n",
    "            \"api_type\": \"\",\n",
    "            \"api_base\": \"\",\n",
    "            \"api_version\": \"\",\n",
    "            \"api_key\": \"\"\n",
    "        }\n",
    "    }\n",
    "}"
   ]
  },
  {
   "cell_type": "code",
   "execution_count": null,
   "metadata": {},
   "outputs": [],
   "source": [
    "from uniprompt.modular import baseUniprompt, load_dataset"
   ]
  },
  {
   "cell_type": "code",
   "execution_count": null,
   "metadata": {},
   "outputs": [],
   "source": [
    "train_data, val_data, test_data = load_dataset(config[\"dataset_name\"])"
   ]
  },
  {
   "cell_type": "code",
   "execution_count": null,
   "metadata": {},
   "outputs": [],
   "source": [
    "uniprompt = baseUniprompt(config)\n",
    "p = config[\"initial_prompt\"]"
   ]
  },
  {
   "cell_type": "code",
   "execution_count": null,
   "metadata": {},
   "outputs": [],
   "source": [
    "metrics = uniprompt.evaluate(data=test_data, prompt=p)\n",
    "print(f\"Metrics for initial prompt: {p}: {metrics}\")"
   ]
  },
  {
   "cell_type": "code",
   "execution_count": null,
   "metadata": {},
   "outputs": [],
   "source": [
    "uniprompt.initialize_candidates(initial_prompt = p, val_data=val_data)"
   ]
  },
  {
   "cell_type": "code",
   "execution_count": null,
   "metadata": {},
   "outputs": [],
   "source": [
    "for epoch in range(config[\"epochs\"]):\n",
    "    # Create groups based on configured frequency\n",
    "    p = uniprompt.get_best_prompt()\n",
    "    if epoch % config[\"group_frequency\"] == 0:\n",
    "        # if you want to group every epoch then you can do that or you can group based on the grouping frequency set in config\n",
    "        # grouping function is optional, you can provide your own grouping function\n",
    "        uniprompt.create_groups(prompt=p, train_data=train_data)\n",
    "\n",
    "    # Training iterations\n",
    "    for _ in range(config[\"iterations\"]):\n",
    "        p = uniprompt.train(train_data=train_data, val_data=val_data)\n",
    "        # evaluation function is optional, you can provide your own evaluation function\n",
    "        metrics = uniprompt.evaluate(data=test_data, prompt=p)\n",
    "        print(f\"Epoch: {epoch}, Prompt: {p}, Metrics: {metrics}\")\n"
   ]
  },
  {
   "cell_type": "code",
   "execution_count": null,
   "metadata": {},
   "outputs": [],
   "source": [
    "final_metrics = uniprompt.evaluate(data=test_data, prompt=p)\n",
    "print(f\"Best prompt: {p}\")\n",
    "print(f\"Final metrics: {final_metrics}\")"
   ]
  }
 ],
 "metadata": {
  "kernelspec": {
   "display_name": "uniprompt",
   "language": "python",
   "name": "python3"
  },
  "language_info": {
   "codemirror_mode": {
    "name": "ipython",
    "version": 3
   },
   "file_extension": ".py",
   "mimetype": "text/x-python",
   "name": "python",
   "nbconvert_exporter": "python",
   "pygments_lexer": "ipython3",
   "version": "3.11.9"
  }
 },
 "nbformat": 4,
 "nbformat_minor": 2
}
