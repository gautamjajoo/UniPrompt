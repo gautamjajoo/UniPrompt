{
 "cells": [
  {
   "cell_type": "code",
   "execution_count": null,
   "metadata": {},
   "outputs": [],
   "source": [
    "!git clone https://github.com/microsoft/UniPrompt.git"
   ]
  },
  {
   "cell_type": "code",
   "execution_count": null,
   "metadata": {},
   "outputs": [],
   "source": [
    "%cd UniPrompt\n",
    "!python3 -m pip install --upgrade pip setuptools\n",
    "!python3 -m pip install .\n",
    "%cd .."
   ]
  },
  {
   "cell_type": "code",
   "execution_count": 9,
   "metadata": {},
   "outputs": [],
   "source": [
    "config = {\n",
    "    \"experiment_details\":\"Ethos, gpt-4o, 0.7 temperature, 10 epochs, 7 batch size, 5 mini batch size, 1 iterations, 3 beam width, 2 group frequency, 0.5 epsilon\",\n",
    "    \"dataset_path\": \"data/ethos.jsonl\",\n",
    "    \"mini_batch_size\": 5,\n",
    "    \"batch_size\": 7,\n",
    "    \"iterations\": 1,\n",
    "    \"epochs\": 10,\n",
    "    \"logging_file_path\": \"logs/ethos.jsonl\",\n",
    "    \"epsilon\": 0.5,\n",
    "    \"beam_width\": 3,\n",
    "    \"group_frequency\": 2,\n",
    "    \"content_safety\": true,\n",
    "    \"cache_path\": \"cache/ethos.db\",\n",
    "    \"initial_prompt\": \"Given a query, you have to tell if it contains hate speech in any form or not.\",\n",
    "    \"dataset_name\": \"ethos\",\n",
    "    \"number_of_groups\": 2, \n",
    "    \"metric_kwargs\": {\n",
    "        \"type\": \"accuracy\"\n",
    "    },\n",
    "    \"solver_llm\": {\n",
    "        \"model_kwargs\": {\n",
    "            \"temperature\": 0,\n",
    "            \"model\": \"gpt-4o\"\n",
    "        },\n",
    "        \"api_kwargs\": {\n",
    "            \"api_type\": \"\",\n",
    "            \"api_base\": \"\",\n",
    "            \"api_version\": \"\",\n",
    "            \"api_key\": \"\"\n",
    "        }\n",
    "    },\n",
    "    \"expert_llm\": {\n",
    "        \"model_kwargs\": {\n",
    "            \"temperature\": 0.7,\n",
    "            \"model\": \"gpt-4o\"\n",
    "        },\n",
    "        \"api_kwargs\": {\n",
    "            \"api_type\": \"\",\n",
    "            \"api_base\": \"\",\n",
    "            \"api_version\": \"\",\n",
    "            \"api_key\": \"\"\n",
    "        }\n",
    "    },\n",
    "    \"grouping_llm\": {\n",
    "        \"model_kwargs\": {\n",
    "            \"temperature\": 0.7,\n",
    "            \"model\": \"gpt-4o\"\n",
    "        },\n",
    "        \"api_kwargs\": {\n",
    "            \"api_type\": \"\",\n",
    "            \"api_base\": \"\",\n",
    "            \"api_version\": \"\",\n",
    "            \"api_key\": \"\"\n",
    "        }\n",
    "    }\n",
    "}"
   ]
  },
  {
   "cell_type": "code",
   "execution_count": null,
   "metadata": {},
   "outputs": [],
   "source": [
    "from uniprompt.beam_search import BeamSearch\n",
    "from uniprompt.data import create_ethos_dataset, load_data\n",
    "from uniprompt.evaluate import evaluate\n",
    "from uniprompt.grouping import Grouping\n",
    "from uniprompt.train import train\n",
    "from uniprompt.utils.config_utils import load_config"
   ]
  },
  {
   "cell_type": "code",
   "execution_count": null,
   "metadata": {},
   "outputs": [],
   "source": [
    "create_ethos_dataset(\"data/ethos.jsonl\")\n",
    "train_data, val_data, test_data = load_data(config[\"dataset_name\"])"
   ]
  },
  {
   "cell_type": "code",
   "execution_count": null,
   "metadata": {},
   "outputs": [],
   "source": [
    "# Initialize UniPrompt\n",
    "beam = BeamSearch(config[\"beam_width\"])\n",
    "if \"number_of_groups\" in config:\n",
    "    number_of_groups = config[\"number_of_groups\"]\n",
    "else:\n",
    "    number_of_groups = 1\n",
    "\n",
    "grouping = Grouping(number_of_groups)\n",
    "p = config[\"initial_prompt\"]"
   ]
  },
  {
   "cell_type": "code",
   "execution_count": null,
   "metadata": {},
   "outputs": [],
   "source": [
    "metrics = evaluate(data=test_data, prompt=p, config = config)\n",
    "print(f\"Metrics for initial prompt: {p}: {metrics}\")"
   ]
  },
  {
   "cell_type": "code",
   "execution_count": null,
   "metadata": {},
   "outputs": [],
   "source": [
    "beam.initialize_candidates(initial_prompt = p, data=val_data, config=config)"
   ]
  },
  {
   "cell_type": "code",
   "execution_count": null,
   "metadata": {},
   "outputs": [],
   "source": [
    "for epoch in range(config[\"epochs\"]):\n",
    "    # Create groups based on configured frequency\n",
    "    p = beam.get_best_prompt()\n",
    "    if epoch % config[\"group_frequency\"] == 0:\n",
    "        # if you want to group every epoch then you can do that or you can group based on the grouping frequency set in config\n",
    "        # grouping function is optional, you can provide your own grouping function\n",
    "        grouping.create_groups(prompt=p, data=train_data, config=config)\n",
    "\n",
    "    # Training iterations\n",
    "    for _ in range(config[\"iterations\"]):\n",
    "        print(f'Training start: {config[\"iterations\"]}')\n",
    "        beam = train(train_data=train_data, val_data=val_data, config=config, beam=beam, grouping = grouping)\n",
    "        p = beam.get_best_prompt()\n",
    "        # evaluation function is optional, you can provide your own evaluation function\n",
    "        metrics = evaluate(data=test_data, prompt=p, config = config)\n",
    "        print(f\"Epoch: {epoch}, Prompt: {p}, Metrics: {metrics}\")"
   ]
  },
  {
   "cell_type": "code",
   "execution_count": null,
   "metadata": {},
   "outputs": [],
   "source": [
    "p = beam.get_best_prompt()\n",
    "final_metrics = evaluate(data=test_data, prompt=p, config = config)"
   ]
  },
  {
   "cell_type": "code",
   "execution_count": null,
   "metadata": {},
   "outputs": [],
   "source": [
    "print(f\"Best prompt: {p}\")\n",
    "print(f\"Final metrics: {final_metrics}\")"
   ]
  }
 ],
 "metadata": {
  "kernelspec": {
   "display_name": "uniprompt",
   "language": "python",
   "name": "python3"
  },
  "language_info": {
   "codemirror_mode": {
    "name": "ipython",
    "version": 3
   },
   "file_extension": ".py",
   "mimetype": "text/x-python",
   "name": "python",
   "nbconvert_exporter": "python",
   "pygments_lexer": "ipython3",
   "version": "3.11.9"
  }
 },
 "nbformat": 4,
 "nbformat_minor": 2
}
